{
 "cells": [
  {
   "cell_type": "markdown",
   "metadata": {},
   "source": [
    "# BUTTON G CLICK \n",
    "\n",
    "setup code\n",
    "\n",
    "imports the Mercury overlay from the Red Pitaya library and gives it an alias \"FPGA\". Creates an object called \"overlay\" which represents the Mercury overlay on the Red Pitaya board."
   ]
  },
  {
   "cell_type": "code",
   "execution_count": null,
   "metadata": {},
   "outputs": [],
   "source": [
    "from redpitaya.overlay.mercury import mercury as FPGA\n",
    "import time\n",
    "\n",
    "# Initialize the FPGA overlay\n",
    "overlay = FPGA()\n",
    "\n",
    "# Get references to GPIO pins and LED\n",
    "GPIO = FPGA.gpio\n",
    "LED = FPGA.led\n",
    "\n",
    "# Set the direction of mikrobus Pins to input\n",
    "mikrobus1IntPin = GPIO('p', 2, \"in\")\n",
    "mikrobus1PwmPin = GPIO('p', 1, \"out\")\n",
    "\n",
    "mikrobus2IntPin = GPIO('p', 4, \"in\")\n",
    "mikrobus2PwmPin = GPIO('p', 3, \"out\")"
   ]
  },
  {
   "cell_type": "markdown",
   "metadata": {},
   "source": [
    "Example that turns on led inside the button and on the Red Pitaya board, when you press the G button"
   ]
  },
  {
   "cell_type": "code",
   "execution_count": null,
   "metadata": {},
   "outputs": [],
   "source": [
    "while True:\n",
    "    state = mikrobus1IntPin.read()\n",
    "    if state == True:\n",
    "        LED(0, 1).write(1)\n",
    "        mikrobus1PwmPin.write(True)\n",
    "    else:\n",
    "        LED(0, 1).write(0)\n",
    "        mikrobus1PwmPin.write(False)"
   ]
  }
 ],
 "metadata": {
  "language_info": {
   "name": "python"
  },
  "orig_nbformat": 4
 },
 "nbformat": 4,
 "nbformat_minor": 2
}
