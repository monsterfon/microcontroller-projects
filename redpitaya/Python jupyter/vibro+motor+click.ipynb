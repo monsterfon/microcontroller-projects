{
 "cells": [
  {
   "cell_type": "markdown",
   "metadata": {},
   "source": [
    "# VIBRO MOTOR CLICK \n",
    "\n",
    "setup code\n",
    "\n",
    "imports the Mercury overlay from the Red Pitaya library and gives it an alias \"FPGA\". Creates an object called \"overlay\" which represents the Mercury overlay on the Red Pitaya board."
   ]
  },
  {
   "cell_type": "code",
   "execution_count": null,
   "metadata": {},
   "outputs": [],
   "source": [
    "from redpitaya.overlay.mercury import mercury as FPGA\n",
    "import time\n",
    "\n",
    "# Initialize the FPGA overlay\n",
    "overlay = FPGA()\n",
    "\n",
    "# Get references to GPIO pins and LED\n",
    "GPIO = FPGA.gpio\n",
    "LED = FPGA.led\n",
    "\n",
    "# Define pin constants\n",
    "mikrobus1PwmPin = GPIO('p', 1, \"out\")\n",
    "mikrobus2PwmPin = GPIO('p', 3, \"out\")\n",
    "\n",
    "def pwm(pin, duty_cycle, num_seconds):\n",
    "    period_us = 875\n",
    "    pulse_us = (duty_cycle * period_us) / 100\n",
    "    num_periods = 0\n",
    "    \n",
    "    while True:\n",
    "        if num_periods ==  num_seconds * 1000:\n",
    "            break\n",
    "        pin.write(True)\n",
    "        time.sleep(pulse_us / 1000000)\n",
    "        pin.write(False)\n",
    "        time.sleep((period_us - pulse_us) / 1000000)\n",
    "        num_periods += 1\n",
    "\n",
    "\n"
   ]
  },
  {
   "cell_type": "markdown",
   "metadata": {},
   "source": [
    "Example that turns on led for 3 seconds and runs motor connected to the pwm pin at 50% power for 3 seconds"
   ]
  },
  {
   "cell_type": "code",
   "execution_count": null,
   "metadata": {},
   "outputs": [],
   "source": [
    "# turn on\n",
    "LED(0, 1).write(True)\n",
    "\n",
    "# run motor at 50% duty cycle for 3 seconds\n",
    "pwm(mikrobus1PwmPin, 50, 3)\n",
    "# the motor doesn't run at less than 30% power\n",
    "\n",
    "# turn off\n",
    "LED(0, 1).write(False)"
   ]
  }
 ],
 "metadata": {
  "kernelspec": {
   "display_name": "Python 3",
   "language": "python",
   "name": "python3"
  },
  "language_info": {
   "codemirror_mode": {
    "name": "ipython",
    "version": 3
   },
   "file_extension": ".py",
   "mimetype": "text/x-python",
   "name": "python",
   "nbconvert_exporter": "python",
   "pygments_lexer": "ipython3",
   "version": "3.5.2"
  }
 },
 "nbformat": 4,
 "nbformat_minor": 2
}
