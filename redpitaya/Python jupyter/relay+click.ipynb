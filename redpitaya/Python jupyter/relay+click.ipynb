{
 "cells": [
  {
   "cell_type": "markdown",
   "metadata": {},
   "source": [
    "# RELAY CLICK \n",
    "\n",
    "setup code\n",
    "\n",
    "imports the Mercury overlay from the Red Pitaya library and gives it an alias \"FPGA\". Creates an object called \"overlay\" which represents the Mercury overlay on the Red Pitaya board."
   ]
  },
  {
   "cell_type": "code",
   "execution_count": null,
   "metadata": {
    "collapsed": true
   },
   "outputs": [],
   "source": [
    "from redpitaya.overlay.mercury import mercury as FPGA\n",
    "overlay = FPGA()\n",
    "import time\n",
    "    \n",
    "GPIO = FPGA.gpio\n",
    "LED = FPGA.led\n",
    "#creating object led1 (first led) starting with value 1\n",
    "led0 = LED(0, 1)\n",
    "\n",
    "\n",
    "mikrobus1RL1Pin = GPIO('p', 1, \"out\")\n",
    "mikrobus1RL2Pin = GPIO('n', 1, \"out\")\n",
    "\n",
    "mikrobus2RL1Pin = GPIO('p', 3, \"out\")\n",
    "mikrobus2RL2Pin = GPIO('n', 3, \"out\")"
   ]
  },
  {
   "cell_type": "markdown",
   "metadata": {},
   "source": [
    "Example that turns on both relays after a second, then turns them off"
   ]
  },
  {
   "cell_type": "code",
   "execution_count": null,
   "metadata": {
    "collapsed": true
   },
   "outputs": [],
   "source": [
    "while True:\n",
    "    led0.write(1)\n",
    "    mikrobus1RL1Pin.write(True)\n",
    "    mikrobus1RL2Pin.write(True)\n",
    "    time.sleep(1)\n",
    "    \n",
    "    led0.write(0)\n",
    "    mikrobus1RL1Pin.write(False)\n",
    "    mikrobus1RL2Pin.write(False)\n",
    "    time.sleep(1)"
   ]
  }
 ],
 "metadata": {
  "kernelspec": {
   "display_name": "Python 3",
   "language": "python",
   "name": "python3"
  },
  "language_info": {
   "codemirror_mode": {
    "name": "ipython",
    "version": 3
   },
   "file_extension": ".py",
   "mimetype": "text/x-python",
   "name": "python",
   "nbconvert_exporter": "python",
   "pygments_lexer": "ipython3",
   "version": "3.5.2"
  }
 },
 "nbformat": 4,
 "nbformat_minor": 2
}
