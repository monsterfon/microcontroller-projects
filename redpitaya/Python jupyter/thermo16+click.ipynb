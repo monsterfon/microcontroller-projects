{
 "cells": [
  {
   "cell_type": "markdown",
   "metadata": {},
   "source": [
    "# THERMO 16 CLICK \n",
    "\n",
    "setup code\n",
    "\n",
    "imports the Mercury overlay from the Red Pitaya library and gives it an alias \"FPGA\". Creates an object called \"overlay\" which represents the Mercury overlay on the Red Pitaya board."
   ]
  },
  {
   "cell_type": "code",
   "execution_count": null,
   "metadata": {},
   "outputs": [],
   "source": [
    "from redpitaya.overlay.mercury import mercury as FPGA\n",
    "import time\n",
    "\n",
    "# Initialize the FPGA overlay\n",
    "overlay = FPGA()\n",
    "\n",
    "mikrobus1AnPin = FPGA.analog_in(0)\n",
    "mikrobus2AnPin = FPGA.analog_in(1)\n",
    "print('Measured voltage on Analog input pin 0 is {:.2f} V'.format(mikrobus1AnPin.read()))\n",
    "\n",
    "def get_average_temperature():\n",
    "    values = []\n",
    "    sum = 0.0\n",
    "    for i in range(0, 30):\n",
    "        # read analog input value from Red Pitaya\n",
    "        values.append(mikrobus1AnPin.read())\n",
    "        sum += values[i]\n",
    "        time.sleep(0.05)\n",
    "    average = sum / 30.0\n",
    "    return (average -0.53) * 100.0\n",
    "    # TEMP_IN_CELSIUS;\n",
    "    # standard deviation = ABSOLUTE MISTAKE / Sqrt(3) = 1,25 °C / Sqrt(3) = 0.72 °C\n",
    "    # with 68% certainty\n",
    "    # uncertainty due to repeated measurements can be disregarded"
   ]
  },
  {
   "cell_type": "markdown",
   "metadata": {},
   "source": [
    "Example that measures the temperature of redpitaya, which is around 30°C, which because of the 9°C correction outputs temperature around 21°C, which could represent the temperature of the room. "
   ]
  },
  {
   "cell_type": "code",
   "execution_count": null,
   "metadata": {},
   "outputs": [],
   "source": [
    "temperature =  get_average_temperature()\n",
    "correction= -9.0 \n",
    "# ADD A  DIFFRENT CORRECTION IF NECESSARY;\n",
    "temperature = temperature + correction\n",
    "\n",
    "print(\"Measured TEMP_IN_KELVIN = {:.4f}°C +- 0.72°C \\n\".format(temperature + 273.15))\n",
    "print(\"Measured TEMP_IN_FARENHEIT = {:.4f}°F +- 1.3°F \\n\".format((temperature * 9.0/5.0) + 32.0))\n",
    "print(\"Measured TEMP_IN_CELSIUS = {:.4f}°C +- 0.72°C\\n\".format(temperature))"
   ]
  }
 ],
 "metadata": {
  "language_info": {
   "name": "python"
  },
  "orig_nbformat": 4
 },
 "nbformat": 4,
 "nbformat_minor": 2
}
