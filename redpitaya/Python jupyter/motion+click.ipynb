{
 "cells": [
  {
   "cell_type": "markdown",
   "metadata": {},
   "source": [
    "# MOTION CLICK \n",
    "\n",
    "setup code\n",
    "\n",
    "imports the Mercury overlay from the Red Pitaya library and gives it an alias \"FPGA\". Creates an object called \"overlay\" which represents the Mercury overlay on the Red Pitaya board."
   ]
  },
  {
   "cell_type": "code",
   "execution_count": null,
   "metadata": {},
   "outputs": [],
   "source": [
    "from redpitaya.overlay.mercury import mercury as FPGA\n",
    "import time\n",
    "\n",
    "# Initialize the FPGA overlay\n",
    "overlay = FPGA()\n",
    "\n",
    "# Get references to GPIO pins and LED\n",
    "GPIO = FPGA.gpio\n",
    "LED = FPGA.led\n",
    "\n",
    "# Set the direction of mikrobus1IntPin to input\n",
    "mikrobus1IntPin = GPIO('p', 2, \"in\")\n",
    "mikrobus2IntPin = GPIO('p', 4, \"in\")\n"
   ]
  },
  {
   "cell_type": "markdown",
   "metadata": {},
   "source": [
    "Example that cheacks every 1 second if there is motion or not"
   ]
  },
  {
   "cell_type": "code",
   "execution_count": null,
   "metadata": {},
   "outputs": [],
   "source": [
    "while True:\n",
    "    # Get the state of the button\n",
    "    state = mikrobus1IntPin.read()\n",
    "\n",
    "    # Turn on the LED based on the button state\n",
    "    if state == True:\n",
    "        LED(0, 1).write(1)  # Turn on LED0\n",
    "        print(\"There is no motion\")\n",
    "    else:\n",
    "        LED(0, 1).write(0)  # Turn off LED0\n",
    "        print(\"There is MOTION\")\n",
    "\n",
    "    time.sleep(1)"
   ]
  },
  {
   "cell_type": "code",
   "execution_count": null,
   "metadata": {
    "collapsed": true
   },
   "outputs": [],
   "source": []
  }
 ],
 "metadata": {
  "kernelspec": {
   "display_name": "Python 3",
   "language": "python",
   "name": "python3"
  },
  "language_info": {
   "codemirror_mode": {
    "name": "ipython",
    "version": 3
   },
   "file_extension": ".py",
   "mimetype": "text/x-python",
   "name": "python",
   "nbconvert_exporter": "python",
   "pygments_lexer": "ipython3",
   "version": "3.5.2"
  }
 },
 "nbformat": 4,
 "nbformat_minor": 2
}
