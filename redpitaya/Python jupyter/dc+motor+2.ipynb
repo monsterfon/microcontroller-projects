{
 "cells": [
  {
   "cell_type": "markdown",
   "metadata": {},
   "source": [
    "# DC MOTOR 2 CLICK \n",
    "\n",
    "setup code\n",
    "\n",
    "imports the Mercury overlay from the Red Pitaya library and gives it an alias \"FPGA\". Creates an object called \"overlay\" which represents the Mercury overlay on the Red Pitaya board."
   ]
  },
  {
   "cell_type": "code",
   "execution_count": 9,
   "metadata": {},
   "outputs": [
    {
     "name": "stdout",
     "output_type": "stream",
     "text": [
      "Requested overlay is already loaded.\n",
      "Overlay __del__ was activated.\n",
      "But since there are garbage collection ordering issues, this code is commented out.\n"
     ]
    }
   ],
   "source": [
    "from redpitaya.overlay.mercury import mercury as FPGA\n",
    "import time\n",
    "\n",
    "# Initialize the FPGA overlay\n",
    "overlay = FPGA()\n",
    "\n",
    "# Get references to GPIO pins and LED\n",
    "GPIO = FPGA.gpio\n",
    "LED = FPGA.led\n",
    "\n",
    "# Set the direction of mikrobus Pins to output\n",
    "mikrobus1PwmPin = GPIO('p', 1, \"out\")\n",
    "mikrobus1In1Pin = GPIO('n', 1, \"out\")\n",
    "mikrobus1In2Pin = GPIO('n', 2, \"out\")\n",
    "mikrobus1SlpPin = GPIO('p', 2, \"out\")\n",
    "\n",
    "mikrobus2PwmPin = GPIO('p', 3, \"out\")\n",
    "mikrobus2In1Pin = GPIO('n', 3, \"out\")\n",
    "mikrobus2In2Pin = GPIO('n', 4, \"out\")\n",
    "mikrobus2SlpPin = GPIO('p', 4, \"out\")\n",
    "\n",
    "def pwm(pin, duty_cycle, num_seconds):\n",
    "    period_us = 875\n",
    "    pulse_us = (duty_cycle * period_us) / 100\n",
    "    num_periods = 0\n",
    "    \n",
    "    while True:\n",
    "        if num_periods ==  num_seconds *1000:\n",
    "            break\n",
    "        pin.write(True)\n",
    "        time.sleep(pulse_us / 1000000)\n",
    "        pin.write(False)\n",
    "        time.sleep((period_us - pulse_us) / 1000000)\n",
    "        num_periods += 1\n",
    "\n",
    "def set_motor_mode(motor_mode):\n",
    "    if motor_mode == \"MODE_CCW\":\n",
    "        mikrobus1In1Pin.write(False)\n",
    "        mikrobus1In2Pin.write(True)\n",
    "        mikrobus1SlpPin.write(True)\n",
    "    elif motor_mode == \"MODE_CW\":\n",
    "        mikrobus1In1Pin.write(True)\n",
    "        mikrobus1In2Pin.write(False)\n",
    "        mikrobus1SlpPin.write(True)\n",
    "    elif motor_mode == \"MODE_STOP\":\n",
    "        mikrobus1In1Pin.write(False)\n",
    "        mikrobus1In2Pin.write(False)\n",
    "        mikrobus1SlpPin.write(True)\n",
    "    elif motor_mode == \"MODE_STANDBY\":\n",
    "        mikrobus1In1Pin.write(False)\n",
    "        mikrobus1In2Pin.write(False)\n",
    "        mikrobus1SlpPin.write(False)\n",
    "    else:\n",
    "        # Handle the default case\n",
    "        pass\n",
    "\n",
    "def pwm_sweep(pin, sweep_time, up_or_down):\n",
    "    period_us = 875\n",
    "    num_steps = int(sweep_time * 1000)  # Convert sweep time to milliseconds\n",
    "    \n",
    "    if up_or_down == \"up\":\n",
    "        # The 0.15 is because the motor starts spinning at 15%\n",
    "        for i in range(int(0.15 * num_steps), num_steps + 1):\n",
    "            duty_cycle = (i * 100) / num_steps  # percent of power, zero to 100\n",
    "            pulse_us = (duty_cycle * period_us) / 100\n",
    "        \n",
    "            # set pin state high\n",
    "            pin.write(True)            \n",
    "            # delay for pulse duration\n",
    "            time.sleep(pulse_us / 1000000)\n",
    "\n",
    "            # set pin state low\n",
    "            pin.write(False)\n",
    "\n",
    "            # delay for remaining period\n",
    "            time.sleep((period_us - pulse_us) / 1000000)\n",
    "    \n",
    "    elif up_or_down == \"down\":\n",
    "        # The 0.15 is because the motor starts spinning at 15%\n",
    "        for i in range(num_steps, int(0.15 * num_steps) - 1, -1):\n",
    "            duty_cycle = (i * 100) / num_steps  # percent of power, zero to 100\n",
    "            pulse_us = (duty_cycle * period_us) / 100\n",
    "        \n",
    "            # set pin state high\n",
    "            pin.write(True)\n",
    "            \n",
    "            # delay for pulse duration\n",
    "            time.sleep(pulse_us / 1000000)\n",
    "\n",
    "            # set pin state low\n",
    "            pin.write(False)\n",
    "\n",
    "            # delay for remaining period\n",
    "            time.sleep((period_us - pulse_us) / 1000000)\n"
   ]
  },
  {
   "cell_type": "markdown",
   "metadata": {},
   "source": [
    "Example that performs a PWM sweep to gradually increase and decrease the motor speed over a 10-second period. Afterward, it enters an infinite loop where it alternates the motor's direction and runs it at 50% duty cycle for 3 seconds each in counter-clockwise, stopped, clockwise, and standby modes. The direction of the motor is set using an H-Bridge driver."
   ]
  },
  {
   "cell_type": "code",
   "execution_count": 10,
   "metadata": {},
   "outputs": [
    {
     "ename": "KeyboardInterrupt",
     "evalue": "",
     "output_type": "error",
     "traceback": [
      "\u001b[0;31m---------------------------------------------------------------------------\u001b[0m",
      "\u001b[0;31mKeyboardInterrupt\u001b[0m                         Traceback (most recent call last)",
      "\u001b[0;32m<ipython-input-10-9ad69b2ed7c4>\u001b[0m in \u001b[0;36m<module>\u001b[0;34m()\u001b[0m\n\u001b[1;32m      7\u001b[0m     \u001b[0mset_motor_mode\u001b[0m\u001b[0;34m(\u001b[0m\u001b[0;34m\"MODE_CCW\"\u001b[0m\u001b[0;34m)\u001b[0m\u001b[0;34m\u001b[0m\u001b[0m\n\u001b[1;32m      8\u001b[0m     \u001b[0;31m# Run motor at 50% duty cycle for 3 seconds\u001b[0m\u001b[0;34m\u001b[0m\u001b[0;34m\u001b[0m\u001b[0m\n\u001b[0;32m----> 9\u001b[0;31m     \u001b[0mpwm\u001b[0m\u001b[0;34m(\u001b[0m\u001b[0mmikrobus1PwmPin\u001b[0m\u001b[0;34m,\u001b[0m \u001b[0;36m50\u001b[0m\u001b[0;34m,\u001b[0m \u001b[0;36m3\u001b[0m\u001b[0;34m)\u001b[0m\u001b[0;34m\u001b[0m\u001b[0m\n\u001b[0m\u001b[1;32m     10\u001b[0m \u001b[0;34m\u001b[0m\u001b[0m\n\u001b[1;32m     11\u001b[0m     \u001b[0;31m# Set motor mode to stop\u001b[0m\u001b[0;34m\u001b[0m\u001b[0;34m\u001b[0m\u001b[0m\n",
      "\u001b[0;32m<ipython-input-9-5b3c8e9be412>\u001b[0m in \u001b[0;36mpwm\u001b[0;34m(pin, duty_cycle, num_seconds)\u001b[0m\n\u001b[1;32m     29\u001b[0m             \u001b[0;32mbreak\u001b[0m\u001b[0;34m\u001b[0m\u001b[0m\n\u001b[1;32m     30\u001b[0m         \u001b[0mpin\u001b[0m\u001b[0;34m.\u001b[0m\u001b[0mwrite\u001b[0m\u001b[0;34m(\u001b[0m\u001b[0;32mTrue\u001b[0m\u001b[0;34m)\u001b[0m\u001b[0;34m\u001b[0m\u001b[0m\n\u001b[0;32m---> 31\u001b[0;31m         \u001b[0mtime\u001b[0m\u001b[0;34m.\u001b[0m\u001b[0msleep\u001b[0m\u001b[0;34m(\u001b[0m\u001b[0mpulse_us\u001b[0m \u001b[0;34m/\u001b[0m \u001b[0;36m1000000\u001b[0m\u001b[0;34m)\u001b[0m\u001b[0;34m\u001b[0m\u001b[0m\n\u001b[0m\u001b[1;32m     32\u001b[0m         \u001b[0mpin\u001b[0m\u001b[0;34m.\u001b[0m\u001b[0mwrite\u001b[0m\u001b[0;34m(\u001b[0m\u001b[0;32mFalse\u001b[0m\u001b[0;34m)\u001b[0m\u001b[0;34m\u001b[0m\u001b[0m\n\u001b[1;32m     33\u001b[0m         \u001b[0mtime\u001b[0m\u001b[0;34m.\u001b[0m\u001b[0msleep\u001b[0m\u001b[0;34m(\u001b[0m\u001b[0;34m(\u001b[0m\u001b[0mperiod_us\u001b[0m \u001b[0;34m-\u001b[0m \u001b[0mpulse_us\u001b[0m\u001b[0;34m)\u001b[0m \u001b[0;34m/\u001b[0m \u001b[0;36m1000000\u001b[0m\u001b[0;34m)\u001b[0m\u001b[0;34m\u001b[0m\u001b[0m\n",
      "\u001b[0;31mKeyboardInterrupt\u001b[0m: "
     ]
    }
   ],
   "source": [
    "#sweep up or down to lower the current spike\n",
    "set_motor_mode(\"MODE_CW\")\n",
    "pwm_sweep(mikrobus1PwmPin, 10, \"up\")\n",
    "\n",
    "while True:\n",
    "    # Set motor mode to counter-clockwise\n",
    "    set_motor_mode(\"MODE_CCW\")\n",
    "    # Run motor at 50% duty cycle for 3 seconds\n",
    "    pwm(mikrobus1PwmPin, 50, 3)\n",
    "\n",
    "    # Set motor mode to stop\n",
    "    set_motor_mode(\"MODE_STOP\")\n",
    "    # Run motor at 50% duty cycle for 3 seconds\n",
    "    pwm(mikrobus1PwmPin, 50, 3)\n",
    "\n",
    "    # Set motor mode to clockwise\n",
    "    set_motor_mode(\"MODE_CW\")\n",
    "    # Run motor at 50% duty cycle for 3 seconds\n",
    "    pwm(mikrobus1PwmPin, 50, 3)\n",
    "\n",
    "    # Set motor mode to standby\n",
    "    set_motor_mode(\"MODE_STANDBY\")\n",
    "    # Run motor at 50% duty cycle for 3 seconds\n",
    "    pwm(mikrobus1PwmPin, 50, 3)"
   ]
  },
  {
   "cell_type": "code",
   "execution_count": null,
   "metadata": {
    "collapsed": true
   },
   "outputs": [],
   "source": []
  }
 ],
 "metadata": {
  "kernelspec": {
   "display_name": "Python 3",
   "language": "python",
   "name": "python3"
  },
  "language_info": {
   "codemirror_mode": {
    "name": "ipython",
    "version": 3
   },
   "file_extension": ".py",
   "mimetype": "text/x-python",
   "name": "python",
   "nbconvert_exporter": "python",
   "pygments_lexer": "ipython3",
   "version": "3.5.2"
  }
 },
 "nbformat": 4,
 "nbformat_minor": 2
}
